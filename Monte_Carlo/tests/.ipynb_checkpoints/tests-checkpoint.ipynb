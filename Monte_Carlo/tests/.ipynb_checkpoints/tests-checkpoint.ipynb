{
 "cells": [
  {
   "cell_type": "code",
   "execution_count": null,
   "metadata": {},
   "outputs": [
    {
     "ename": "",
     "evalue": "",
     "output_type": "error",
     "traceback": [
      "\u001b[1;31mRunning cells with 'Python 3.10.12' requires the ipykernel package.\n",
      "\u001b[1;31mRun the following command to install 'ipykernel' into the Python environment. \n",
      "\u001b[1;31mCommand: '/bin/python3 -m pip install ipykernel -U --user --force-reinstall'"
     ]
    }
   ],
   "source": [
    "# Importer les bibliothèques nécessaires\n",
    "import numpy as np\n",
    "import matplotlib.pyplot as plt\n",
    "from sklearn.linear_model import LinearRegression\n",
    "\n",
    "# 1. Lire les données depuis le fichier 'data.txt'\n",
    "data = np.loadtxt('test_mmv_br.txt')  # Assurer que le fichier 'data.txt' est dans le même répertoire\n",
    "\n",
    "# Séparer les données en x et y\n",
    "x = data[:, 0].reshape(-1, 1)  # Sélectionner la première colonne comme x\n",
    "y = data[:, 1]  # Sélectionner la deuxième colonne comme y\n",
    "\n",
    "# 2. Créer un modèle de régression linéaire et l'ajuster\n",
    "model = LinearRegression()\n",
    "model.fit(x, y)\n",
    "\n",
    "# Prédire les valeurs de y à partir de x\n",
    "y_pred = model.predict(x)\n",
    "\n",
    "# 3. Afficher les données et la régression linéaire\n",
    "plt.scatter(x, y, color='blue', label='Données originales')  # Tracer les points de données\n",
    "plt.plot(x, y_pred, color='red', label='Régression linéaire')  # Tracer la ligne de régression\n",
    "plt.xlabel('X')\n",
    "plt.ylabel('Y')\n",
    "plt.title('Régression Linéaire')\n",
    "plt.legend()\n",
    "plt.show()\n",
    "\n"
   ]
  }
 ],
 "metadata": {
  "kernelspec": {
   "display_name": "Python 3",
   "language": "python",
   "name": "python3"
  },
  "language_info": {
   "name": "python",
   "version": "3.10.12"
  }
 },
 "nbformat": 4,
 "nbformat_minor": 2
}
