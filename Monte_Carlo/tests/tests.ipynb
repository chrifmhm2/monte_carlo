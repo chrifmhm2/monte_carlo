{
 "cells": [
  {
   "cell_type": "code",
   "execution_count": 8,
   "metadata": {},
   "outputs": [
    {
     "name": "stdout",
     "output_type": "stream",
     "text": [
      "Coefficients : [-0.01327009]\n",
      "Intercept : -0.9959326487213104\n"
     ]
    }
   ],
   "source": [
    "import pandas as pd\n",
    "from sklearn.model_selection import train_test_split\n",
    "from sklearn.linear_model import LinearRegression\n",
    "import matplotlib.pyplot as plt\n",
    "\n",
    "# 1. Lire le fichier texte\n",
    "df = pd.read_csv('test_mmv_br.txt', header=None, names=['x', 'y'])\n",
    "\n",
    "# 2. Séparer les caractéristiques (X) et la cible (y)\n",
    "X = df[['x']]  # Caractéristiques\n",
    "y = df['y']    # Cible\n",
    "\n",
    "# 3. Diviser les données en ensembles d'entraînement et de test\n",
    "X_train, X_test, y_train, y_test = train_test_split(X, y, test_size=0.2, random_state=42)\n",
    "\n",
    "# 4. Créer le modèle de régression\n",
    "model = LinearRegression()\n",
    "\n",
    "# 5. Entraîner le modèle\n",
    "model.fit(X_train, y_train)\n",
    "\n",
    "# 6. Faire des prédictions\n",
    "y_pred = model.predict(X_test)\n",
    "\n",
    "# 7. Afficher les résultats\n",
    "print(\"Coefficients :\", model.coef_)\n",
    "print(\"Intercept :\", model.intercept_)\n",
    "\n",
    "plt.scatter(X, y, color='blue', label='Données réelles')\n",
    "plt.plot(X_test, y_pred, color='red', label='Prédiction')\n",
    "plt.xlabel('x')\n",
    "plt.ylabel('y')\n",
    "plt.legend()\n",
    "plt.show()\n",
    "\n",
    "\n",
    "\n",
    "\n"
   ]
  },
  {
   "cell_type": "code",
   "execution_count": null,
   "metadata": {},
   "outputs": [],
   "source": []
  }
 ],
 "metadata": {
  "kernelspec": {
   "display_name": "Python 3 (ipykernel)",
   "language": "python",
   "name": "python3"
  },
  "language_info": {
   "codemirror_mode": {
    "name": "ipython",
    "version": 3
   },
   "file_extension": ".py",
   "mimetype": "text/x-python",
   "name": "python",
   "nbconvert_exporter": "python",
   "pygments_lexer": "ipython3",
   "version": "3.10.12"
  }
 },
 "nbformat": 4,
 "nbformat_minor": 4
}
